{
 "cells": [
  {
   "cell_type": "code",
   "execution_count": 1,
   "id": "95d861a1",
   "metadata": {},
   "outputs": [
    {
     "name": "stderr",
     "output_type": "stream",
     "text": [
      "/opt/miniconda3/envs/env_NLP/lib/python3.12/site-packages/tqdm/auto.py:21: TqdmWarning: IProgress not found. Please update jupyter and ipywidgets. See https://ipywidgets.readthedocs.io/en/stable/user_install.html\n",
      "  from .autonotebook import tqdm as notebook_tqdm\n"
     ]
    }
   ],
   "source": [
    "\n",
    "from transformers import DistilBertTokenizerFast, DistilBertForSequenceClassification\n",
    "from transformers import (\n",
    "    DistilBertTokenizerFast, \n",
    "    DistilBertConfig,\n",
    "    DistilBertModel,\n",
    "    DistilBertForSequenceClassification,\n",
    "    TrainingArguments, \n",
    "    Trainer,\n",
    "    EarlyStoppingCallback,\n",
    "    TextClassificationPipeline,\n",
    ")\n",
    "from transformers.modeling_outputs import SequenceClassifierOutput\n",
    "\n",
    "\n",
    "\n",
    "from torch.utils.data import DataLoader\n",
    "from torch.optim import AdamW\n",
    "import torch\n",
    "import torch.nn as nn\n",
    "import torch.nn.functional as F\n",
    "\n",
    "\n",
    "import torch\n",
    "import os\n",
    "import pandas as pd\n",
    "import json\n",
    "from tqdm import tqdm\n",
    "import numpy as np\n",
    "\n",
    "\n",
    "from datasets import load_dataset\n",
    "from sklearn.metrics import accuracy_score, precision_recall_fscore_support\n",
    "from sklearn.model_selection import train_test_split"
   ]
  },
  {
   "cell_type": "code",
   "execution_count": 14,
   "id": "c3016c64",
   "metadata": {},
   "outputs": [],
   "source": [
    "BATCH_SIZE = 16\n",
    "LR = 1e-5\n",
    "EPOCHS = 3\n",
    "MODEL_PATH_1 = \"imdb_distilbert_finetuned\"\n",
    "MODEL_PATH_2 = \"imdb_distilbert_soft\"\n",
    "MODEL_PATH_3 = \"imdb_distilbert_hard\"\n",
    "MAX_LENGTH = 512\n",
    "\n"
   ]
  },
  {
   "cell_type": "code",
   "execution_count": 4,
   "id": "34a5e841",
   "metadata": {},
   "outputs": [],
   "source": [
    "## device\n",
    "\n",
    "if torch.backends.mps.is_available():\n",
    "    DEVICE = torch.device('mps')\n",
    "elif torch.backends.cuda.is_available():\n",
    "    DEVICE = torch.device('cuda')\n",
    "else:\n",
    "    DEVICE = torch.device('cpu')\n",
    "    \n",
    "# DEVICE = torch.device('cpu')\n"
   ]
  },
  {
   "cell_type": "markdown",
   "id": "63952b36",
   "metadata": {},
   "source": [
    "### phase 1: finetune the model on imdb dataset for sentiment classification"
   ]
  },
  {
   "cell_type": "code",
   "execution_count": 27,
   "id": "aa6edcd7",
   "metadata": {},
   "outputs": [],
   "source": [
    "def preprocess_data(dataset, tokenizer, batch_size,  max_length=MAX_LENGTH,size=None):\n",
    "    # if size is None:\n",
    "    #     dataset = load_dataset(dataset_name, split=split)\n",
    "    # else:\n",
    "    #     dataset = load_dataset(dataset_name, split=split).shuffle(seed=42).select(range(size))\n",
    "    def preprocess(examples):\n",
    "        enc = tokenizer(examples['text'], truncation=True, padding='max_length', max_length=max_length)\n",
    "        enc['labels'] = examples['label']\n",
    "        return enc\n",
    "    dataset = dataset.map(preprocess, batched=True)\n",
    "    dataset.set_format(type='torch', columns=['input_ids', 'attention_mask', 'labels'])\n",
    "    # return DataLoader(dataset, batch_size=batch_size, shuffle=(split=='train'))\n",
    "    return dataset\n"
   ]
  },
  {
   "cell_type": "code",
   "execution_count": 5,
   "id": "332299b0",
   "metadata": {},
   "outputs": [],
   "source": [
    "def compute_metrics(pred):\n",
    "    # Extract logits from the tuple\n",
    "    logits = pred.predictions[0] if isinstance(pred.predictions, tuple) else pred.predictions\n",
    "    \n",
    "    # Get predicted class labels\n",
    "    preds = logits.argmax(-1)\n",
    "    \n",
    "    # Calculate metrics\n",
    "    labels = pred.label_ids\n",
    "    precision, recall, f1, _ = precision_recall_fscore_support(labels, preds, average='binary')\n",
    "    acc = accuracy_score(labels, preds)\n",
    "    \n",
    "    print(f'accuracy: {acc}, f1: {f1}, precision: {precision}, recall: {recall}')\n",
    "    return {\n",
    "        'accuracy': acc,\n",
    "        'f1': f1,\n",
    "        'precision': precision,\n",
    "        'recall': recall\n",
    "    }\n"
   ]
  },
  {
   "cell_type": "code",
   "execution_count": 2,
   "id": "a4896101",
   "metadata": {},
   "outputs": [],
   "source": [
    "tokenizer = DistilBertTokenizerFast.from_pretrained('distilbert-base-uncased')"
   ]
  },
  {
   "cell_type": "code",
   "execution_count": 7,
   "id": "f9af57fc",
   "metadata": {},
   "outputs": [],
   "source": [
    "# imdb_dataset = get_dataloader('imdb', tokenizer,  32)"
   ]
  },
  {
   "cell_type": "code",
   "execution_count": 8,
   "id": "6da8e005",
   "metadata": {},
   "outputs": [],
   "source": [
    "# imdb_dataset"
   ]
  },
  {
   "cell_type": "code",
   "execution_count": 9,
   "id": "9784a2f2",
   "metadata": {},
   "outputs": [],
   "source": [
    "# for n,batch in enumerate(imdb_dataset):\n",
    "#     print(batch)\n",
    "#     if n==0:\n",
    "#         break\n",
    "\n"
   ]
  },
  {
   "cell_type": "code",
   "execution_count": 5,
   "id": "5e60b000",
   "metadata": {},
   "outputs": [
    {
     "name": "stderr",
     "output_type": "stream",
     "text": [
      "Some weights of DistilBertForSequenceClassification were not initialized from the model checkpoint at distilbert-base-uncased and are newly initialized: ['classifier.bias', 'classifier.weight', 'pre_classifier.bias', 'pre_classifier.weight']\n",
      "You should probably TRAIN this model on a down-stream task to be able to use it for predictions and inference.\n"
     ]
    }
   ],
   "source": [
    "# Load the configuration and enable output_attentions\n",
    "config = DistilBertConfig.from_pretrained('distilbert-base-uncased', num_labels=2)\n",
    "\n",
    "# Load the model with the configuration\n",
    "model = DistilBertForSequenceClassification.from_pretrained('distilbert-base-uncased',config=config).to(DEVICE)"
   ]
  },
  {
   "cell_type": "code",
   "execution_count": 11,
   "id": "e4d104eb",
   "metadata": {},
   "outputs": [
    {
     "data": {
      "text/plain": [
       "DistilBertForSequenceClassification(\n",
       "  (distilbert): DistilBertModel(\n",
       "    (embeddings): Embeddings(\n",
       "      (word_embeddings): Embedding(30522, 768, padding_idx=0)\n",
       "      (position_embeddings): Embedding(512, 768)\n",
       "      (LayerNorm): LayerNorm((768,), eps=1e-12, elementwise_affine=True)\n",
       "      (dropout): Dropout(p=0.1, inplace=False)\n",
       "    )\n",
       "    (transformer): Transformer(\n",
       "      (layer): ModuleList(\n",
       "        (0-5): 6 x TransformerBlock(\n",
       "          (attention): DistilBertSdpaAttention(\n",
       "            (dropout): Dropout(p=0.1, inplace=False)\n",
       "            (q_lin): Linear(in_features=768, out_features=768, bias=True)\n",
       "            (k_lin): Linear(in_features=768, out_features=768, bias=True)\n",
       "            (v_lin): Linear(in_features=768, out_features=768, bias=True)\n",
       "            (out_lin): Linear(in_features=768, out_features=768, bias=True)\n",
       "          )\n",
       "          (sa_layer_norm): LayerNorm((768,), eps=1e-12, elementwise_affine=True)\n",
       "          (ffn): FFN(\n",
       "            (dropout): Dropout(p=0.1, inplace=False)\n",
       "            (lin1): Linear(in_features=768, out_features=3072, bias=True)\n",
       "            (lin2): Linear(in_features=3072, out_features=768, bias=True)\n",
       "            (activation): GELUActivation()\n",
       "          )\n",
       "          (output_layer_norm): LayerNorm((768,), eps=1e-12, elementwise_affine=True)\n",
       "        )\n",
       "      )\n",
       "    )\n",
       "  )\n",
       "  (pre_classifier): Linear(in_features=768, out_features=768, bias=True)\n",
       "  (classifier): Linear(in_features=768, out_features=2, bias=True)\n",
       "  (dropout): Dropout(p=0.2, inplace=False)\n",
       ")"
      ]
     },
     "execution_count": 11,
     "metadata": {},
     "output_type": "execute_result"
    }
   ],
   "source": [
    "model"
   ]
  },
  {
   "cell_type": "code",
   "execution_count": 28,
   "id": "8b481ad2",
   "metadata": {},
   "outputs": [],
   "source": [
    "## setting training and validation and testing datasets\n",
    "\n",
    "# Load the full training dataset\n",
    "full_train_dataset = load_dataset('imdb', split='train').shuffle(seed=42)\n",
    "\n",
    "# Split the training dataset into train and validation sets\n",
    "train_size = 0.9  # 90% for training, 10% for validation\n",
    "split_data = full_train_dataset.train_test_split(test_size=1-train_size, seed=42)\n",
    "train_data = split_data['train']\n",
    "val_data = split_data['test']\n",
    "\n",
    "# Load the test dataset\n",
    "test_data = load_dataset('imdb', split='test')\n",
    "\n",
    "full_train_dataset, \n",
    "\n",
    "# # Preprocess train, validation, and test datasets\n",
    "train_dataset = preprocess_data(train_data, tokenizer, BATCH_SIZE)\n",
    "val_dataset = preprocess_data(val_data, tokenizer, BATCH_SIZE)\n",
    "test_dataset = preprocess_data(test_data, tokenizer, BATCH_SIZE)"
   ]
  },
  {
   "cell_type": "code",
   "execution_count": 13,
   "id": "8a430d31",
   "metadata": {},
   "outputs": [],
   "source": [
    "torch.mps.empty_cache()"
   ]
  },
  {
   "cell_type": "code",
   "execution_count": 14,
   "id": "58c91c42",
   "metadata": {},
   "outputs": [],
   "source": [
    "training_args = TrainingArguments(\n",
    "    output_dir=\"./results\",\n",
    "    num_train_epochs=3,\n",
    "    per_device_train_batch_size=4,\n",
    "    gradient_accumulation_steps=4,\n",
    "    per_device_eval_batch_size=8,\n",
    "    warmup_steps=500,\n",
    "    weight_decay=0.01,\n",
    "    logging_dir='./logs',\n",
    "    logging_steps=10,\n",
    "    eval_strategy=\"epoch\",\n",
    "    save_strategy=\"epoch\",\n",
    "    load_best_model_at_end=True,\n",
    "    metric_for_best_model=\"f1\",\n",
    "    push_to_hub=False,  # Set to True if you want to push to Hugging Face Hub\n",
    ")\n",
    "\n",
    "\n",
    "\n"
   ]
  },
  {
   "cell_type": "code",
   "execution_count": 15,
   "id": "516a0640",
   "metadata": {},
   "outputs": [],
   "source": [
    "trainer = Trainer(\n",
    "    model=model,\n",
    "    args=training_args,\n",
    "    train_dataset=train_dataset,\n",
    "    eval_dataset=val_dataset,\n",
    "    compute_metrics=compute_metrics,\n",
    "    callbacks=[EarlyStoppingCallback(early_stopping_patience=2)],\n",
    "    \n",
    ")"
   ]
  },
  {
   "cell_type": "code",
   "execution_count": 16,
   "id": "065aae4c",
   "metadata": {},
   "outputs": [
    {
     "data": {
      "text/html": [
       "\n",
       "    <div>\n",
       "      \n",
       "      <progress value='4218' max='4218' style='width:300px; height:20px; vertical-align: middle;'></progress>\n",
       "      [4218/4218 1:18:16, Epoch 2/3]\n",
       "    </div>\n",
       "    <table border=\"1\" class=\"dataframe\">\n",
       "  <thead>\n",
       " <tr style=\"text-align: left;\">\n",
       "      <th>Epoch</th>\n",
       "      <th>Training Loss</th>\n",
       "      <th>Validation Loss</th>\n",
       "      <th>Accuracy</th>\n",
       "      <th>F1</th>\n",
       "      <th>Precision</th>\n",
       "      <th>Recall</th>\n",
       "    </tr>\n",
       "  </thead>\n",
       "  <tbody>\n",
       "    <tr>\n",
       "      <td>1</td>\n",
       "      <td>0.271900</td>\n",
       "      <td>0.210475</td>\n",
       "      <td>0.918000</td>\n",
       "      <td>0.917172</td>\n",
       "      <td>0.913113</td>\n",
       "      <td>0.921266</td>\n",
       "    </tr>\n",
       "    <tr>\n",
       "      <td>2</td>\n",
       "      <td>0.058700</td>\n",
       "      <td>0.320689</td>\n",
       "      <td>0.931200</td>\n",
       "      <td>0.931746</td>\n",
       "      <td>0.911491</td>\n",
       "      <td>0.952922</td>\n",
       "    </tr>\n",
       "  </tbody>\n",
       "</table><p>"
      ],
      "text/plain": [
       "<IPython.core.display.HTML object>"
      ]
     },
     "metadata": {},
     "output_type": "display_data"
    },
    {
     "name": "stdout",
     "output_type": "stream",
     "text": [
      "accuracy: 0.918, f1: 0.9171717171717172, precision: 0.913113435237329, recall: 0.9212662337662337\n",
      "accuracy: 0.9256, f1: 0.9249394673123487, precision: 0.9197431781701445, recall: 0.9301948051948052\n",
      "accuracy: 0.9312, f1: 0.9317460317460318, precision: 0.9114906832298136, recall: 0.952922077922078\n"
     ]
    },
    {
     "data": {
      "text/plain": [
       "TrainOutput(global_step=4218, training_loss=0.1790976125178192, metrics={'train_runtime': 4698.2151, 'train_samples_per_second': 14.367, 'train_steps_per_second': 0.898, 'total_flos': 8936780582928384.0, 'train_loss': 0.1790976125178192, 'epoch': 2.9984})"
      ]
     },
     "execution_count": 16,
     "metadata": {},
     "output_type": "execute_result"
    }
   ],
   "source": [
    "# Train the model\n",
    "trainer.train()"
   ]
  },
  {
   "cell_type": "code",
   "execution_count": 17,
   "id": "a47c0b25",
   "metadata": {},
   "outputs": [
    {
     "name": "stdout",
     "output_type": "stream",
     "text": [
      "Model saved to imdb_distilbert_finetuned\n"
     ]
    }
   ],
   "source": [
    "model_path = MODEL_PATH_1\n",
    "if not os.path.exists(model_path):\n",
    "    os.makedirs(model_path)\n",
    "model.save_pretrained(model_path)\n",
    "tokenizer.save_pretrained(model_path)\n",
    "print(f\"Model saved to {model_path}\")"
   ]
  },
  {
   "cell_type": "code",
   "execution_count": 18,
   "id": "13896dea",
   "metadata": {},
   "outputs": [
    {
     "data": {
      "text/html": [
       "\n",
       "    <div>\n",
       "      \n",
       "      <progress value='313' max='313' style='width:300px; height:20px; vertical-align: middle;'></progress>\n",
       "      [313/313 00:46]\n",
       "    </div>\n",
       "    "
      ],
      "text/plain": [
       "<IPython.core.display.HTML object>"
      ]
     },
     "metadata": {},
     "output_type": "display_data"
    },
    {
     "name": "stdout",
     "output_type": "stream",
     "text": [
      "accuracy: 0.9312, f1: 0.9317460317460318, precision: 0.9114906832298136, recall: 0.952922077922078\n",
      "Evaluation results: {'eval_loss': 0.3206891417503357, 'eval_accuracy': 0.9312, 'eval_f1': 0.9317460317460318, 'eval_precision': 0.9114906832298136, 'eval_recall': 0.952922077922078, 'eval_runtime': 46.6019, 'eval_samples_per_second': 53.646, 'eval_steps_per_second': 6.716, 'epoch': 2.9984}\n"
     ]
    }
   ],
   "source": [
    "\n",
    "# Evaluate the model\n",
    "eval_results = trainer.evaluate()\n",
    "print(f\"Evaluation results: {eval_results}\")"
   ]
  },
  {
   "cell_type": "code",
   "execution_count": 19,
   "id": "99447db6",
   "metadata": {},
   "outputs": [
    {
     "name": "stdout",
     "output_type": "stream",
     "text": [
      "Sample review: 'This movie was fantastic! The acting was superb and the plot kept me engaged throughout.'\n",
      "Predicted sentiment: Positive\n"
     ]
    }
   ],
   "source": [
    "# Example inference function\n",
    "def predict_sentiment(text):\n",
    "    inputs = tokenizer(text, return_tensors=\"pt\", truncation=True, max_length=MAX_LENGTH, padding=\"max_length\").to(DEVICE)\n",
    "    with torch.no_grad():\n",
    "        outputs = model(**inputs)\n",
    "    \n",
    "    logits = outputs.logits\n",
    "    predicted_class = torch.argmax(logits, dim=1).item()\n",
    "    \n",
    "    return \"Positive\" if predicted_class == 1 else \"Negative\"\n",
    "\n",
    "# Test with a sample review\n",
    "sample_review = \"This movie was fantastic! The acting was superb and the plot kept me engaged throughout.\"\n",
    "sentiment = predict_sentiment(sample_review)\n",
    "print(f\"Sample review: '{sample_review}'\")\n",
    "print(f\"Predicted sentiment: {sentiment}\")"
   ]
  },
  {
   "cell_type": "markdown",
   "id": "d73981bf",
   "metadata": {},
   "source": [
    "### phase 2: soft pruning"
   ]
  },
  {
   "cell_type": "code",
   "execution_count": 6,
   "id": "7076fd58",
   "metadata": {},
   "outputs": [],
   "source": [
    "from bz2 import compress\n",
    "class ThresholdLayer(nn.Module):\n",
    "    \"\"\"Layer that learns threshold values for attention-based token pruning\"\"\"\n",
    "    def __init__(self, num_layers, init_threshold=0.02):\n",
    "        super(ThresholdLayer, self).__init__()\n",
    "        self.thresholds = nn.Parameter(torch.ones(num_layers) * init_threshold)\n",
    "        \n",
    "    def forward(self, layer_idx):\n",
    "        return self.thresholds[layer_idx]\n",
    "\n",
    "class DistilBertWithThresholdPruning(nn.Module):\n",
    "    def __init__(self, pretrained_model_path, num_labels=2, temperature=1e-3, init_threshold=0.01, lambda_reg=1e-5):\n",
    "        super(DistilBertWithThresholdPruning, self).__init__()\n",
    "        \n",
    "        # Load the fine-tuned DistilBERT model\n",
    "        self.distilbert = DistilBertModel.from_pretrained(\n",
    "            pretrained_model_path, \n",
    "            output_attentions=True,  # Important to get attention scores\n",
    "            attn_implementation='eager',  # Use softmax for attention\n",
    "        )\n",
    "        \n",
    "        # Number of transformer layers in DistilBERT\n",
    "        self.num_layers = len(self.distilbert.transformer.layer)\n",
    "        \n",
    "        # Create the threshold layer\n",
    "        self.threshold_layer = ThresholdLayer(\n",
    "            num_layers=self.num_layers,\n",
    "            init_threshold=init_threshold\n",
    "        )\n",
    "        \n",
    "        # Temperature for sigmoid scaling\n",
    "        self.temperature = temperature\n",
    "        \n",
    "        # Regularization coefficient\n",
    "        self.lambda_reg = lambda_reg\n",
    "        \n",
    "        # Classification head\n",
    "        self.pre_classifier = nn.Linear(768, 768)\n",
    "        self.dropout = nn.Dropout(0.2)\n",
    "        self.classifier = nn.Linear(768, num_labels)\n",
    "        \n",
    "\n",
    "    \n",
    "    def prune_tokens(self, hidden_states,  attn_mask):\n",
    "        \"\"\"Apply token pruning based on attention mask\"\"\"\n",
    "        # For training phase: soft masking using the attention scores\n",
    "        # We multiply by the mask which will downweight less important tokens\n",
    "        # hidden_states: [batch_size, seq_len, hidden_size]\n",
    "        # attn_mask: [batch_size, seq_len]\n",
    "        \n",
    "        # Expand mask to match hidden states dimensions\n",
    "        expanded_mask = attn_mask.unsqueeze(-1).expand_as(hidden_states)\n",
    "        \n",
    "        # Apply mask to hidden states\n",
    "        masked_hidden_states = hidden_states * expanded_mask\n",
    "        \n",
    "        return masked_hidden_states\n",
    "    \n",
    "    def forward(self, input_ids, attention_mask=None, labels=None):\n",
    "        # Get DistilBERT outputs with attention scores\n",
    "        outputs = self.distilbert(\n",
    "            input_ids=input_ids,\n",
    "            attention_mask=attention_mask,\n",
    "            output_attentions=True,  # Important to get attention scores\n",
    "            return_dict=True\n",
    "        )\n",
    "        \n",
    "        \n",
    "        # Get sequence output and attention scores\n",
    "        sequence_output = outputs.last_hidden_state  # [batch_size, seq_len, hidden_dim]\n",
    "        attention_outputs = outputs.attentions  # Tuple of tensors [batch_size, num_heads, seq_len, seq_len]\n",
    "        \n",
    "        # Apply pruning using attention scores\n",
    "        reg_loss = 0.0\n",
    "        \n",
    "        # Process each layer's attention\n",
    "        for layer_idx, attention in enumerate(attention_outputs):\n",
    "            # Average attention scores across heads to get token importance\n",
    "            # [batch_size, seq_len, seq_len] -> [batch_size, seq_len]\n",
    "            token_scores = attention.mean(dim=1).mean(dim=1)  \n",
    "            \n",
    "            # Get threshold for this layer\n",
    "            threshold = self.threshold_layer(layer_idx)\n",
    "            \n",
    "            # Create soft mask\n",
    "            soft_mask = torch.sigmoid((token_scores - threshold) / self.temperature)\n",
    "            \n",
    "            # Add regularization: encourage fewer retained tokens\n",
    "            reg_loss += soft_mask.mean()\n",
    "        \n",
    "            \n",
    "        \n",
    "        # Use [CLS] token for classification (first token)\n",
    "        pooled_output = sequence_output[:, 0]  # [batch_size, hidden_dim]\n",
    "        \n",
    "        # Classification head\n",
    "        pooled_output = self.pre_classifier(pooled_output)\n",
    "        pooled_output = nn.ReLU()(pooled_output)\n",
    "        pooled_output = self.dropout(pooled_output)\n",
    "        logits = self.classifier(pooled_output)\n",
    "        \n",
    "        loss = None\n",
    "        if labels is not None:\n",
    "            loss_fct = nn.CrossEntropyLoss()\n",
    "            loss = loss_fct(logits.view(-1, self.classifier.out_features), labels.view(-1))\n",
    "            loss += self.lambda_reg * reg_loss\n",
    "        \n",
    "        return SequenceClassifierOutput(\n",
    "            loss=loss,\n",
    "            logits=logits,\n",
    "            hidden_states=outputs.hidden_states,\n",
    "            attentions=outputs.attentions\n",
    "        )\n",
    "\n",
    "    def fix_thresholds(self):\n",
    "        \"\"\"Fix the threshold values after training\"\"\"\n",
    "        self.threshold_layer.thresholds.requires_grad = False\n",
    "        \n",
    "    def get_thresholds(self):\n",
    "        \"\"\"Get the learned threshold values for each layer\"\"\"\n",
    "        return self.threshold_layer.thresholds.detach().cpu().numpy()\n",
    "    \n",
    "    def save_pretrained(self, save_directory):\n",
    "        \"\"\"Save model to the specified directory in a format compatible with HF\"\"\"\n",
    "        if not os.path.exists(save_directory):\n",
    "            os.makedirs(save_directory)\n",
    "        \n",
    "        # Save the model weights\n",
    "        torch.save(self.state_dict(), os.path.join(save_directory, \"pytorch_model.bin\"))\n",
    "        \n",
    "        # Save configuration\n",
    "        config = {\n",
    "            \"model_type\": \"distilbert\",\n",
    "            \"num_labels\": 2,\n",
    "            \"temperature\": self.temperature,\n",
    "            \"thresholds\": self.get_thresholds().tolist(),\n",
    "            \"num_layers\": self.num_layers,\n",
    "        }\n",
    "        \n",
    "        with open(os.path.join(save_directory, \"config.json\"), \"w\") as f:\n",
    "            json.dump(config, f)\n",
    "    \n",
    "    @classmethod\n",
    "    def from_pretrained(cls, pretrained_model_path, num_labels=2, temperature=1e-3, init_threshold=0.01, lambda_reg=1e-5):\n",
    "        \"\"\"Load model from pretrained directory\"\"\"\n",
    "        # Load config from saved model\n",
    "        config_path = os.path.join(pretrained_model_path, \"config.json\")\n",
    "        if os.path.exists(config_path):\n",
    "            with open(config_path, 'r') as f:\n",
    "                config = json.load(f)\n",
    "            \n",
    "            # Get parameters from config\n",
    "            # init_threshold = 0.01  # default\n",
    "             # Get parameters from config\n",
    "            init_threshold = config.get(\"thresholds\", [init_threshold])[0]\n",
    "            num_labels = config.get(\"num_labels\", num_labels)\n",
    "            temperature = config.get(\"temperature\", temperature)\n",
    "            \n",
    "        \n",
    "        # Create a new instance\n",
    "        model = cls(\n",
    "            pretrained_model_path,\n",
    "            num_labels=num_labels,\n",
    "            temperature=temperature,\n",
    "            init_threshold=init_threshold,\n",
    "            lambda_reg=lambda_reg\n",
    "        )\n",
    "        \n",
    "        # Load the state dict if it exists\n",
    "        model_path = os.path.join(pretrained_model_path, \"pytorch_model.bin\")\n",
    "        if os.path.exists(model_path):\n",
    "            model.load_state_dict(torch.load(model_path, map_location=\"cpu\"))\n",
    "        \n",
    "        return model\n",
    "        "
   ]
  },
  {
   "cell_type": "code",
   "execution_count": 21,
   "id": "091febcf",
   "metadata": {},
   "outputs": [],
   "source": [
    "from regex import B\n",
    "\n",
    "\n",
    "def train_threshold_model(pretrained_model_path, dataset, tokenizer):\n",
    "    \"\"\"Train the threshold-based model\"\"\"\n",
    "    # Create model\n",
    "    model = DistilBertWithThresholdPruning(\n",
    "        pretrained_model_path=pretrained_model_path,\n",
    "        num_labels=2,\n",
    "        temperature=1e-3,\n",
    "        init_threshold=0.02,\n",
    "        lambda_reg=1e-5\n",
    "    )\n",
    "    \n",
    "    # Training parameters\n",
    "    learning_rate = 1e-5\n",
    "    num_epochs = 3\n",
    "    batch_size = BATCH_SIZE\n",
    "    device = DEVICE\n",
    "    \n",
    "    # Move model to device\n",
    "    model.to(device)\n",
    "    \n",
    "    # Define optimizer\n",
    "    optimizer = torch.optim.AdamW(model.parameters(), lr=learning_rate)\n",
    "    \n",
    "    # Create DataLoader for training set\n",
    "    train_dataloader = train_dataset\n",
    "    \n",
    "    torch.mps.empty_cache()\n",
    "    # Training loop\n",
    "    model.train()\n",
    "    for epoch in range(num_epochs):\n",
    "        total_loss = 0\n",
    "        for batch in train_dataloader:\n",
    "            # Prepare batch\n",
    "            input_ids = batch[\"input_ids\"].to(device)\n",
    "            attention_mask = batch[\"attention_mask\"].to(device)\n",
    "            labels = batch[\"labels\"].to(device)\n",
    "            \n",
    "            # Zero gradients\n",
    "            optimizer.zero_grad()\n",
    "            \n",
    "            # Forward pass\n",
    "            outputs = model(\n",
    "                input_ids=input_ids,\n",
    "                attention_mask=attention_mask,\n",
    "                labels=labels\n",
    "            )\n",
    "            \n",
    "            # Calculate loss\n",
    "            loss = outputs.loss\n",
    "            total_loss += loss.item()\n",
    "            \n",
    "            # Backward pass\n",
    "            loss.backward()\n",
    "            \n",
    "             # Clear attention scores to free memory\n",
    "            del outputs.attentions\n",
    "            torch.mps.empty_cache()  # Clear memory on MPS backend\n",
    "\n",
    "            \n",
    "            # Update parameters\n",
    "            optimizer.step()\n",
    "        \n",
    "        # Print epoch statistics\n",
    "        avg_loss = total_loss / len(train_dataloader)\n",
    "        print(f\"Epoch {epoch+1}/{num_epochs} - Avg loss: {avg_loss:.4f}\")\n",
    "    \n",
    "    # Fix thresholds after training\n",
    "    model.fix_thresholds()\n",
    "    \n",
    "    # Print learned thresholds\n",
    "    thresholds = model.get_thresholds()\n",
    "    print(f\"Learned thresholds: {thresholds}\")\n",
    "    \n",
    "    return model"
   ]
  },
  {
   "cell_type": "code",
   "execution_count": 22,
   "id": "db14558f",
   "metadata": {},
   "outputs": [
    {
     "name": "stdout",
     "output_type": "stream",
     "text": [
      "Epoch 1/3 - Avg loss: 0.0803\n",
      "Epoch 2/3 - Avg loss: 0.0520\n",
      "Epoch 3/3 - Avg loss: 0.0366\n",
      "Learned thresholds: [0.10545765 0.08017303 0.07289841 0.05522738 0.11968768 0.15995482]\n"
     ]
    }
   ],
   "source": [
    "from transformers import DistilBertTokenizer\n",
    "from datasets import load_dataset\n",
    "\n",
    "\n",
    "# Path to your fine-tuned model from previous step\n",
    "pretrained_model_path = MODEL_PATH_1\n",
    "\n",
    "# Train threshold model\n",
    "threshold_model = train_threshold_model(\n",
    "    pretrained_model_path=pretrained_model_path,\n",
    "    dataset=train_dataset,\n",
    "    tokenizer=tokenizer\n",
    ")"
   ]
  },
  {
   "cell_type": "code",
   "execution_count": 23,
   "id": "d9fd8c16",
   "metadata": {},
   "outputs": [],
   "source": [
    "threshold_model.save_pretrained(MODEL_PATH_2)"
   ]
  },
  {
   "cell_type": "markdown",
   "id": "0f78874f",
   "metadata": {},
   "source": [
    "### phase 3: fixing thresholds and training for hard pruning."
   ]
  },
  {
   "cell_type": "code",
   "execution_count": 20,
   "id": "664a00b8",
   "metadata": {},
   "outputs": [],
   "source": [
    "class DistilBertWithHardPruning(nn.Module):\n",
    "    def __init__(self, pretrained_soft_model: DistilBertWithThresholdPruning):\n",
    "        super().__init__()\n",
    "\n",
    "        # Clone the architecture and load soft-pruned weights\n",
    "        self.distilbert = pretrained_soft_model.distilbert\n",
    "        self.num_layers = pretrained_soft_model.num_layers\n",
    "        self.threshold_layer = pretrained_soft_model.threshold_layer  # frozen\n",
    "        self.temperature = pretrained_soft_model.temperature\n",
    "        self.pre_classifier = pretrained_soft_model.pre_classifier\n",
    "        self.dropout = pretrained_soft_model.dropout\n",
    "        self.classifier = pretrained_soft_model.classifier\n",
    "\n",
    "        # Freeze thresholds\n",
    "        self.threshold_layer.thresholds.requires_grad = False\n",
    "\n",
    "        # self.\n",
    "\n",
    "    def forward(self, input_ids, attention_mask=None, labels=None):\n",
    "        outputs = self.distilbert(\n",
    "            input_ids=input_ids,\n",
    "            attention_mask=attention_mask,\n",
    "            output_attentions=True,\n",
    "            return_dict=True\n",
    "        )\n",
    "\n",
    "        hidden_states = outputs.last_hidden_state  # [B, S, H]\n",
    "        attention_outputs = outputs.attentions \n",
    "        for layer_idx, attention in enumerate(attention_outputs):\n",
    "            \n",
    "            token_scores = attention.mean(dim=1).mean(dim=1)  # [B, seq_len]\n",
    "            threshold = self.threshold_layer(layer_idx)\n",
    "            hard_mask = (token_scores > threshold).float()  # binary mask\n",
    "            # print(\"Hard mask shape:\", hard_mask.shape)\n",
    "\n",
    "            # Always keep [CLS] token (position 0)\n",
    "            cls_token = torch.ones(hard_mask.size(0), 1, device=hard_mask.device)\n",
    "            hard_mask = torch.cat([cls_token, hard_mask[:, 1:]], dim=1)\n",
    "\n",
    "            # Expand and apply pruning mask\n",
    "            expanded_mask = hard_mask.unsqueeze(-1).expand_as(hidden_states)\n",
    "            hidden_states = hidden_states * expanded_mask\n",
    "\n",
    "        pooled_output = hidden_states[:, 0]  # Use CLS token for classification\n",
    "        pooled_output = self.pre_classifier(pooled_output)\n",
    "        pooled_output = nn.ReLU()(pooled_output)\n",
    "        pooled_output = self.dropout(pooled_output)\n",
    "        logits = self.classifier(pooled_output)\n",
    "\n",
    "        loss = None\n",
    "        if labels is not None:\n",
    "            loss_fct = nn.CrossEntropyLoss()\n",
    "            loss = loss_fct(logits.view(-1, self.classifier.out_features), labels.view(-1))\n",
    "\n",
    "        return SequenceClassifierOutput(\n",
    "            loss=loss,\n",
    "            logits=logits,\n",
    "            hidden_states=outputs.hidden_states,\n",
    "            attentions=outputs.attentions\n",
    "        )\n",
    "            \n",
    "    \n",
    "    def save_pretrained(self, save_directory):\n",
    "       \n",
    "        if not os.path.exists(save_directory):\n",
    "            os.makedirs(save_directory)\n",
    "\n",
    "        # Save model state dict\n",
    "        torch.save(self.state_dict(), os.path.join(save_directory, \"pytorch_model.bin\"))\n",
    "\n",
    "        # Save thresholds (frozen from soft model)\n",
    "        thresholds = self.threshold_layer.thresholds.detach().cpu().numpy().tolist()\n",
    "\n",
    "        # Save config for reproducibility\n",
    "        config = {\n",
    "            \"model_type\": \"distilbert\",\n",
    "            \"num_labels\": self.classifier.out_features,\n",
    "            \"temperature\": getattr(self, \"temperature\", None),\n",
    "            \"thresholds\": thresholds,\n",
    "            \"num_layers\": self.num_layers\n",
    "        }\n",
    "\n",
    "        with open(os.path.join(save_directory, \"config.json\"), \"w\") as f:\n",
    "            json.dump(config, f)\n",
    "\n",
    "        print(f\"Model saved to {save_directory}\")\n",
    "        \n",
    "    @classmethod\n",
    "    def from_pretrained(cls, pretrained_model_path):\n",
    "        # Load config from saved model\n",
    "        config_path = os.path.join(pretrained_model_path, \"config.json\")\n",
    "        if not os.path.exists(config_path):\n",
    "            raise FileNotFoundError(f\"Config file not found in {config_path}\")\n",
    "\n",
    "        with open(config_path, \"r\") as f:\n",
    "            config = json.load(f)\n",
    "\n",
    "        # Create a new instance of the soft-pruned model\n",
    "        soft_model = DistilBertWithThresholdPruning.from_pretrained(pretrained_model_path)\n",
    "\n",
    "        # Create a new instance of the hard-pruned model\n",
    "        hard_model = cls(pretrained_soft_model=soft_model)\n",
    "\n",
    "        # Load the state dict\n",
    "        model_path = os.path.join(pretrained_model_path, \"pytorch_model.bin\")\n",
    "        if os.path.exists(model_path):\n",
    "            hard_model.load_state_dict(torch.load(model_path, map_location=\"cpu\"))\n",
    "        else:\n",
    "            raise FileNotFoundError(f\"Model weights not found in {model_path}\")\n",
    "\n",
    "        return hard_model\n",
    "    \n",
    "    def get_thresholds(self):\n",
    "        \"\"\"Get the learned threshold values for each layer.\"\"\"\n",
    "        return self.threshold_layer.thresholds.detach().cpu().numpy()"
   ]
  },
  {
   "cell_type": "code",
   "execution_count": 25,
   "id": "5fc04255",
   "metadata": {},
   "outputs": [],
   "source": [
    "\n",
    "import torch\n",
    "from torch.nn.utils import clip_grad_norm_\n",
    "import torch.nn.functional as F\n",
    "from torch.optim import AdamW\n",
    "from copy import deepcopy\n",
    "\n",
    "\n",
    "def train_hard_pruning_model(soft_model, train_loader, val_loader, num_epochs=3, lr=5e-5, device='cuda'):\n",
    "    \n",
    "    # Convert soft model to hard pruning model\n",
    "    hard_model = DistilBertWithHardPruning(\n",
    "        pretrained_soft_model=deepcopy(soft_model)\n",
    "    )\n",
    "    hard_model.to(device)\n",
    "\n",
    "    # Freeze threshold parameters\n",
    "    hard_model.threshold_layer.thresholds.requires_grad = False\n",
    "\n",
    "    # Set up optimizer for all other trainable parameters\n",
    "    optimizer = AdamW(\n",
    "        filter(lambda p: p.requires_grad, hard_model.parameters()), \n",
    "        lr=lr\n",
    "    )\n",
    "\n",
    "    best_val_loss = float('inf')\n",
    "    best_model_state = None\n",
    "\n",
    "    for epoch in range(num_epochs):\n",
    "        hard_model.train()\n",
    "        train_loss = 0.0\n",
    "       \n",
    "        train_loop = tqdm(train_loader, desc=f\"Epoch {epoch+1}/{num_epochs} [Train]\", leave=False)\n",
    "\n",
    "\n",
    "        for batch in train_loop:\n",
    "            input_ids = batch[\"input_ids\"].to(device)\n",
    "            attention_mask = batch[\"attention_mask\"].to(device)\n",
    "            labels = batch[\"labels\"].to(device)\n",
    "\n",
    "            optimizer.zero_grad()\n",
    "\n",
    "            outputs = hard_model(\n",
    "                input_ids=input_ids,\n",
    "                attention_mask=attention_mask,\n",
    "                labels=labels\n",
    "            )\n",
    "            loss = outputs.loss\n",
    "            loss.backward()\n",
    "            \n",
    "            if torch.backends.mps.is_available():\n",
    "                torch.mps.empty_cache()\n",
    "\n",
    "            clip_grad_norm_(hard_model.parameters(), max_norm=1.0)\n",
    "            optimizer.step()\n",
    "            train_loss += loss.item()\n",
    "            # Update tqdm progress bar with current loss\n",
    "            train_loop.set_postfix(loss=f\"{loss.item():.4f}\")\n",
    "\n",
    "        avg_train_loss = train_loss / len(train_loader)\n",
    "\n",
    "        # Validation\n",
    "        hard_model.eval()\n",
    "        val_loss = 0.0\n",
    "        correct = total = 0\n",
    "        # Create validation loop with tqdm\n",
    "        val_loop = tqdm(val_loader, desc=f\"Epoch {epoch+1}/{num_epochs} [Validate]\", leave=False)\n",
    "        \n",
    "        with torch.no_grad():\n",
    "            for batch in val_loop:\n",
    "                input_ids = batch[\"input_ids\"].to(device)\n",
    "                attention_mask = batch[\"attention_mask\"].to(device)\n",
    "                labels = batch[\"labels\"].to(device)\n",
    "\n",
    "                outputs = hard_model(\n",
    "                    input_ids=input_ids,\n",
    "                    attention_mask=attention_mask,\n",
    "                    labels=labels\n",
    "                )\n",
    "                logits = outputs.logits\n",
    "                loss = outputs.loss\n",
    "\n",
    "                val_loss += loss.item()\n",
    "                preds = torch.argmax(logits, dim=1)\n",
    "                correct += (preds == labels).sum().item()\n",
    "                total += labels.size(0)\n",
    "                # Update tqdm progress bar with current loss and accuracy\n",
    "                val_loop.set_postfix(loss=f\"{loss.item():.4f}\", acc=f\"{correct/total:.4f}\")\n",
    "        \n",
    "\n",
    "        avg_val_loss = val_loss / len(val_loader)\n",
    "        val_acc = correct / total\n",
    "\n",
    "        print(f\"Epoch {epoch+1}/{num_epochs} | Train Loss: {avg_train_loss:.4f} | Val Loss: {avg_val_loss:.4f} | Val Acc: {val_acc:.4f}\")\n",
    "\n",
    "        if avg_val_loss < best_val_loss:\n",
    "            best_val_loss = avg_val_loss\n",
    "            best_model_state = deepcopy(hard_model.state_dict())\n",
    "\n",
    "    # Load best model state before returning\n",
    "    hard_model.load_state_dict(best_model_state)\n",
    "    return hard_model"
   ]
  },
  {
   "cell_type": "code",
   "execution_count": 26,
   "id": "0032c1cf",
   "metadata": {},
   "outputs": [],
   "source": [
    "torch.mps.empty_cache()"
   ]
  },
  {
   "cell_type": "code",
   "execution_count": 27,
   "id": "07362a86",
   "metadata": {},
   "outputs": [
    {
     "name": "stderr",
     "output_type": "stream",
     "text": [
      "                                                                                                \r"
     ]
    },
    {
     "name": "stdout",
     "output_type": "stream",
     "text": [
      "Epoch 1/3 | Train Loss: 0.1170 | Val Loss: 0.5397 | Val Acc: 0.8996\n"
     ]
    },
    {
     "name": "stderr",
     "output_type": "stream",
     "text": [
      "                                                                                                \r"
     ]
    },
    {
     "name": "stdout",
     "output_type": "stream",
     "text": [
      "Epoch 2/3 | Train Loss: 0.0903 | Val Loss: 0.5817 | Val Acc: 0.9020\n"
     ]
    },
    {
     "name": "stderr",
     "output_type": "stream",
     "text": [
      "                                                                                                "
     ]
    },
    {
     "name": "stdout",
     "output_type": "stream",
     "text": [
      "Epoch 3/3 | Train Loss: 0.0798 | Val Loss: 0.4352 | Val Acc: 0.9172\n"
     ]
    },
    {
     "name": "stderr",
     "output_type": "stream",
     "text": [
      "\r"
     ]
    }
   ],
   "source": [
    "# Assume you have the tokenizer and dataset\n",
    "train_loader = DataLoader(train_dataset, batch_size=8, shuffle=True)\n",
    "val_loader = DataLoader(val_dataset, batch_size=8)\n",
    "\n",
    "# Load pretrained soft-pruned model\n",
    "soft_model = DistilBertWithThresholdPruning(MODEL_PATH_2)\n",
    "soft_model.threshold_layer.thresholds.requires_grad = False\n",
    "\n",
    "torch.mps.empty_cache()\n",
    "\n",
    "\n",
    "# Train the hard-pruning model\n",
    "final_model = train_hard_pruning_model(\n",
    "    soft_model=soft_model,\n",
    "    train_loader=train_loader,\n",
    "    val_loader=val_loader,\n",
    "    num_epochs=3,\n",
    "    lr=5e-5,\n",
    "    device=DEVICE\n",
    ")"
   ]
  },
  {
   "cell_type": "code",
   "execution_count": 28,
   "id": "60ba95cf",
   "metadata": {},
   "outputs": [
    {
     "name": "stdout",
     "output_type": "stream",
     "text": [
      "Model saved to imdb_distilbert_hard\n"
     ]
    }
   ],
   "source": [
    "final_model.save_pretrained(MODEL_PATH_3)"
   ]
  },
  {
   "cell_type": "code",
   "execution_count": 29,
   "id": "969dd1c9",
   "metadata": {},
   "outputs": [],
   "source": [
    "import torch\n",
    "import pandas as pd\n",
    "from tqdm import tqdm\n",
    "from transformers import AutoTokenizer\n",
    "\n",
    "def save_predictions_to_csv(model, dataloader, tokenizer, output_csv, device):\n",
    "    model.eval()\n",
    "    model.to(device)\n",
    "\n",
    "    rows = []\n",
    "\n",
    "    with torch.no_grad():\n",
    "        for batch in tqdm(dataloader, desc=\"Evaluating\"):\n",
    "            input_ids = batch['input_ids'].to(device)\n",
    "            attention_mask = batch['attention_mask'].to(device)\n",
    "            labels = batch['labels'].to(device)\n",
    "\n",
    "            outputs = model(\n",
    "                input_ids=input_ids,\n",
    "                attention_mask=attention_mask,\n",
    "                labels=labels\n",
    "            )\n",
    "\n",
    "            logits = outputs.logits\n",
    "            predictions = torch.argmax(logits, dim=1)\n",
    "\n",
    "            # Recompute hard pruning mask (same as model.forward)\n",
    "            attention_outputs = model.distilbert(\n",
    "                input_ids=input_ids,\n",
    "                attention_mask=attention_mask,\n",
    "                output_attentions=True,\n",
    "                return_dict=True\n",
    "            ).attentions\n",
    "\n",
    "            final_layer_attention = attention_outputs[-1]\n",
    "            token_scores = final_layer_attention.mean(dim=1).mean(dim=1)\n",
    "            threshold = model.threshold_layer(model.num_layers - 1)\n",
    "            mask = (token_scores > threshold).float()\n",
    "\n",
    "            # Always keep CLS\n",
    "            cls = torch.ones(mask.size(0), 1).to(device)\n",
    "            mask = torch.cat([cls, mask[:, 1:]], dim=1)\n",
    "\n",
    "            for i in range(input_ids.size(0)):\n",
    "                tokens = input_ids[i]\n",
    "                input_sentence = tokenizer.decode(tokens, skip_special_tokens=True)\n",
    "\n",
    "                kept_indices = torch.where(mask[i] > 0.5)[0]\n",
    "                kept_tokens = tokens[kept_indices]\n",
    "                pruned_sentence = tokenizer.decode(kept_tokens, skip_special_tokens=True)\n",
    "\n",
    "                rows.append({\n",
    "                    \"input_sentence\": input_sentence,\n",
    "                    \"remaining_sentence\": pruned_sentence,\n",
    "                    \"true_label\": labels[i].item(),\n",
    "                    \"predicted_label\": predictions[i].item()\n",
    "                })\n",
    "\n",
    "    df = pd.DataFrame(rows)\n",
    "    df.to_csv(output_csv, index=False)\n",
    "    print(f\"Saved results to {output_csv}\")"
   ]
  },
  {
   "cell_type": "code",
   "execution_count": 30,
   "id": "7d3dc5bd",
   "metadata": {},
   "outputs": [
    {
     "name": "stderr",
     "output_type": "stream",
     "text": [
      "Evaluating: 100%|██████████| 3125/3125 [17:16<00:00,  3.02it/s]\n"
     ]
    },
    {
     "name": "stdout",
     "output_type": "stream",
     "text": [
      "Saved results to predictions_with_pruned.csv\n"
     ]
    }
   ],
   "source": [
    "# Load tokenizer (same one used during training)\n",
    "tokenizer = AutoTokenizer.from_pretrained('distilbert-base-uncased')\n",
    "test_loader = DataLoader(test_dataset, batch_size=8)\n",
    "\n",
    "\n",
    "# Assume you have: `final_model`, `test_loader`, `DEVICE`\n",
    "save_predictions_to_csv(\n",
    "    model=final_model,\n",
    "    dataloader=test_loader,\n",
    "    tokenizer=tokenizer,\n",
    "    output_csv=\"predictions_with_pruned.csv\",\n",
    "    device=DEVICE\n",
    ")"
   ]
  },
  {
   "cell_type": "markdown",
   "id": "477e932b",
   "metadata": {},
   "source": [
    "### Visualizing the thresholds"
   ]
  },
  {
   "cell_type": "code",
   "execution_count": 30,
   "id": "a1e7ea3f",
   "metadata": {},
   "outputs": [
    {
     "name": "stdout",
     "output_type": "stream",
     "text": [
      "Final model loaded successfully!\n"
     ]
    }
   ],
   "source": [
    "## load the model\n",
    "threshold_model = MODEL_PATH_2  # Replace with the actual path if different\n",
    "\n",
    "# Load the final model\n",
    "threshold_model = DistilBertWithHardPruning.from_pretrained(threshold_model)\n",
    "\n",
    "# Load the tokenizer (if needed)\n",
    "# tokenizer = AutoTokenizer.from_pretrained('distilbert-base-uncased')\n",
    "\n",
    "# Move the model to the appropriate device\n",
    "threshold_model.to(DEVICE)\n",
    "\n",
    "print(\"Final model loaded successfully!\")"
   ]
  },
  {
   "cell_type": "markdown",
   "id": "7e1c8fad",
   "metadata": {},
   "source": [
    "### Evaluate the model"
   ]
  },
  {
   "cell_type": "code",
   "execution_count": 29,
   "id": "8165c0c8",
   "metadata": {},
   "outputs": [
    {
     "name": "stdout",
     "output_type": "stream",
     "text": [
      "+-----------+---------+\n",
      "| Metric    |   Value |\n",
      "+===========+=========+\n",
      "| Accuracy  |  0.9017 |\n",
      "+-----------+---------+\n",
      "| Precision |  0.9114 |\n",
      "+-----------+---------+\n",
      "| Recall    |  0.89   |\n",
      "+-----------+---------+\n",
      "| F1-Score  |  0.9006 |\n",
      "+-----------+---------+\n",
      "\n",
      "Classification Report:\n",
      "              precision    recall  f1-score   support\n",
      "\n",
      "    Negative       0.89      0.91      0.90     12500\n",
      "    Positive       0.91      0.89      0.90     12500\n",
      "\n",
      "    accuracy                           0.90     25000\n",
      "   macro avg       0.90      0.90      0.90     25000\n",
      "weighted avg       0.90      0.90      0.90     25000\n",
      "\n"
     ]
    }
   ],
   "source": [
    "\n",
    "from sklearn.metrics import accuracy_score, precision_score, recall_score, f1_score, classification_report\n",
    "from tabulate import tabulate\n",
    "\n",
    "\n",
    "# Function to evaluate the model on the test dataset\n",
    "def evaluate_model(model, dataloader, device):\n",
    "    model.eval()\n",
    "    model.to(device)\n",
    "\n",
    "    all_labels = []\n",
    "    all_predictions = []\n",
    "\n",
    "    with torch.no_grad():\n",
    "        for batch in dataloader:\n",
    "            input_ids = batch[\"input_ids\"].to(device)\n",
    "            attention_mask = batch[\"attention_mask\"].to(device)\n",
    "            labels = batch[\"labels\"].to(device)\n",
    "\n",
    "            outputs = model(input_ids=input_ids, attention_mask=attention_mask)\n",
    "            logits = outputs.logits\n",
    "            predictions = torch.argmax(logits, dim=1)\n",
    "\n",
    "            all_labels.extend(labels.cpu().numpy())\n",
    "            all_predictions.extend(predictions.cpu().numpy())\n",
    "\n",
    "    return all_labels, all_predictions\n",
    "\n",
    "# Evaluate the model\n",
    "test_loader = DataLoader(test_dataset, batch_size=8)\n",
    "\n",
    "true_labels, predicted_labels = evaluate_model(final_model, test_loader, DEVICE)\n",
    "\n",
    "# Calculate metrics\n",
    "accuracy = accuracy_score(true_labels, predicted_labels)\n",
    "precision = precision_score(true_labels, predicted_labels, average=\"binary\")\n",
    "recall = recall_score(true_labels, predicted_labels, average=\"binary\")\n",
    "f1 = f1_score(true_labels, predicted_labels, average=\"binary\")\n",
    "\n",
    "# Print results as a table\n",
    "results = [\n",
    "    [\"Metric\", \"Value\"],\n",
    "    [\"Accuracy\", f\"{accuracy:.4f}\"],\n",
    "    [\"Precision\", f\"{precision:.4f}\"],\n",
    "    [\"Recall\", f\"{recall:.4f}\"],\n",
    "    [\"F1-Score\", f\"{f1:.4f}\"]\n",
    "]\n",
    "\n",
    "print(tabulate(results, headers=\"firstrow\", tablefmt=\"grid\"))\n",
    "\n",
    "# Optional: Print detailed classification report\n",
    "print(\"\\nClassification Report:\")\n",
    "print(classification_report(true_labels, predicted_labels, target_names=[\"Negative\", \"Positive\"]))"
   ]
  },
  {
   "cell_type": "code",
   "execution_count": 32,
   "id": "6f090e64",
   "metadata": {},
   "outputs": [
    {
     "name": "stdout",
     "output_type": "stream",
     "text": [
      "Thresholds: [0.10545765 0.08017303 0.07289841 0.05522738 0.11968768 0.15995482]\n"
     ]
    },
    {
     "data": {
      "image/png": "[encoded data removed]",
      "text/plain": [
       "<Figure size 1000x600 with 1 Axes>"
      ]
     },
     "metadata": {},
     "output_type": "display_data"
    }
   ],
   "source": [
    "import matplotlib.pyplot as plt\n",
    "import numpy as np\n",
    "\n",
    "def visualize_thresholds(model):\n",
    "    \"\"\"\n",
    "    Visualize the thresholds of each layer in the DistilBertWithThresholdPruning model.\n",
    "    \n",
    "    Args:\n",
    "        model (DistilBertWithThresholdPruning): The model with learned thresholds.\n",
    "    \"\"\"\n",
    "    # Get the thresholds as a numpy array\n",
    "    thresholds = model.get_thresholds()\n",
    "    print(\"Thresholds:\", thresholds)\n",
    "    \n",
    "    # Create a bar chart\n",
    "    plt.figure(figsize=(10, 6))\n",
    "    plt.plot(np.arange(len(thresholds)), thresholds, color='skyblue')\n",
    "    plt.xlabel('Layer Index')\n",
    "    plt.ylabel('Threshold Value')\n",
    "    plt.title('Thresholds for Each Layer')\n",
    "    plt.xticks(np.arange(len(thresholds)))\n",
    "    plt.grid(axis='y', linestyle='--', alpha=0.7)\n",
    "    plt.show()\n",
    "\n",
    "# Example usage:\n",
    "# Assuming `threshold_model` is an instance of DistilBertWithThresholdPruning\n",
    "visualize_thresholds(threshold_model)"
   ]
  },
  {
   "cell_type": "markdown",
   "id": "2324d831",
   "metadata": {},
   "source": []
  },
  {
   "cell_type": "markdown",
   "id": "daf908de",
   "metadata": {},
   "source": []
  }
 ],
 "metadata": {
  "kernelspec": {
   "display_name": "env_NLP",
   "language": "python",
   "name": "python3"
  },
  "language_info": {
   "codemirror_mode": {
    "name": "ipython",
    "version": 3
   },
   "file_extension": ".py",
   "mimetype": "text/x-python",
   "name": "python",
   "nbconvert_exporter": "python",
   "pygments_lexer": "ipython3",
   "version": "3.12.0"
  }
 },
 "nbformat": 4,
 "nbformat_minor": 5
}
